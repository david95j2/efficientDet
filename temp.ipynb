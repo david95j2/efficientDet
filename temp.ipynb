{
 "cells": [
  {
   "cell_type": "code",
   "execution_count": 1,
   "metadata": {},
   "outputs": [
    {
     "name": "stderr",
     "output_type": "stream",
     "text": [
      "/mnt/4T_mnt/joo/temp_repo2/efficientdet/effidet_4/lib/python3.6/site-packages/tqdm/auto.py:22: TqdmWarning: IProgress not found. Please update jupyter and ipywidgets. See https://ipywidgets.readthedocs.io/en/stable/user_install.html\n",
      "  from .autonotebook import tqdm as notebook_tqdm\n"
     ]
    }
   ],
   "source": [
    "import torch"
   ]
  },
  {
   "cell_type": "code",
   "execution_count": 15,
   "metadata": {},
   "outputs": [
    {
     "name": "stdout",
     "output_type": "stream",
     "text": [
      "tensor([[[[0.3458, 0.3458],\n",
      "          [1.5854, 1.5854]],\n",
      "\n",
      "         [[1.9887, 1.9887],\n",
      "          [3.4265, 3.4265]]]], grad_fn=<AddBackward0>)\n"
     ]
    }
   ],
   "source": [
    "a = torch.Tensor([[[[2,2],[4,4]]]])\n",
    "b = torch.Tensor([[[[1,1],[1,1]]]])\n",
    "\n",
    "c = torch.nn.Conv2d(1,2,1)\n",
    "d = torch.nn.Conv2d(1,2,1)\n",
    "\n",
    "e = c(a)\n",
    "f = d(b)\n",
    "print(e+f)"
   ]
  },
  {
   "cell_type": "code",
   "execution_count": null,
   "metadata": {},
   "outputs": [],
   "source": []
  }
 ],
 "metadata": {
  "interpreter": {
   "hash": "65fc0e98898a74a665c3d1f21e62bd6ba7ac538f72080510803785ab43113676"
  },
  "kernelspec": {
   "display_name": "Python 3.6.9 ('effidet_4': venv)",
   "language": "python",
   "name": "python3"
  },
  "language_info": {
   "codemirror_mode": {
    "name": "ipython",
    "version": 3
   },
   "file_extension": ".py",
   "mimetype": "text/x-python",
   "name": "python",
   "nbconvert_exporter": "python",
   "pygments_lexer": "ipython3",
   "version": "3.6.9"
  },
  "orig_nbformat": 4
 },
 "nbformat": 4,
 "nbformat_minor": 2
}
